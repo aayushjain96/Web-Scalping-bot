{
 "cells": [
  {
   "cell_type": "code",
   "execution_count": 1,
   "id": "ed7e20d3",
   "metadata": {},
   "outputs": [],
   "source": [
    "from selenium.webdriver import Firefox\n",
    "from selenium.webdriver.support.ui import Select\n",
    "from selenium.common.exceptions import NoSuchElementException\n",
    "import time\n",
    "import random"
   ]
  },
  {
   "cell_type": "code",
   "execution_count": 2,
   "id": "7b764358",
   "metadata": {},
   "outputs": [],
   "source": [
    "wd=Firefox()\n",
    "wd.implicitly_wait(10)"
   ]
  },
  {
   "cell_type": "code",
   "execution_count": 3,
   "id": "237fab0f",
   "metadata": {},
   "outputs": [],
   "source": [
    "wd.get('https://www.newegg.com/asus-geforce-rtx-3090-rog-strix-rtx3090-o24g-gaming/p/N82E16814126456?Description=rtx%203090&cm_re=rtx_3090-_-14-126-456-_-Product&quicklink=true')"
   ]
  },
  {
   "cell_type": "code",
   "execution_count": 4,
   "id": "9b631270",
   "metadata": {},
   "outputs": [
    {
     "name": "stdout",
     "output_type": "stream",
     "text": [
      "4\n"
     ]
    }
   ],
   "source": [
    "random_timer=random.randrange(3.0, 10.0)\n",
    "\n",
    "print(random_timer)\n",
    "time.sleep(random_timer)"
   ]
  },
  {
   "cell_type": "code",
   "execution_count": null,
   "id": "e4604960",
   "metadata": {},
   "outputs": [],
   "source": []
  },
  {
   "cell_type": "code",
   "execution_count": 5,
   "id": "0ab16377",
   "metadata": {},
   "outputs": [
    {
     "name": "stdout",
     "output_type": "stream",
     "text": [
      "5\n"
     ]
    }
   ],
   "source": [
    "random_timer=random.randrange(3.0, 10.0)\n",
    "\n",
    "print(random_timer)\n",
    "time.sleep(random_timer)\n",
    "\n",
    "while(True):\n",
    "    try:\n",
    "        wd.get(\"https://www.newegg.com/asus-geforce-rtx-3090-rog-strix-rtx3090-o24g-gaming/p/N82E16814126456?Description=rtx%203090&cm_re=rtx_3090-_-14-126-456-_-Product&quicklink=true\")\n",
    "        cart_button=wd.find_element_by_xpath('//*[@id=\"ProductBuy\"]/div[1]/div[2]/button')\n",
    "        cart_button.click()\n",
    "        break\n",
    "    except NoSuchElementException:\n",
    "        print('Out of stock')\n",
    "        time.sleep(20)\n",
    "        "
   ]
  },
  {
   "cell_type": "code",
   "execution_count": null,
   "id": "2b167f8c",
   "metadata": {},
   "outputs": [],
   "source": []
  },
  {
   "cell_type": "code",
   "execution_count": 6,
   "id": "e4b009e3",
   "metadata": {},
   "outputs": [],
   "source": [
    "#cart_button=wd.find_element_by_xpath('//*[@id=\"ProductBuy\"]/div[1]/div[2]/button')"
   ]
  },
  {
   "cell_type": "code",
   "execution_count": 7,
   "id": "4b10da93",
   "metadata": {},
   "outputs": [],
   "source": [
    "#cart_button.click()"
   ]
  },
  {
   "cell_type": "code",
   "execution_count": 8,
   "id": "94ba7262",
   "metadata": {},
   "outputs": [],
   "source": [
    "time.sleep(2)"
   ]
  },
  {
   "cell_type": "code",
   "execution_count": null,
   "id": "05a814ea",
   "metadata": {},
   "outputs": [],
   "source": []
  },
  {
   "cell_type": "code",
   "execution_count": 9,
   "id": "5529eb3e",
   "metadata": {},
   "outputs": [],
   "source": [
    "no_thanks=wd.find_element_by_xpath('//*[@id=\"modal-intermediary\"]/div/div/div/div[3]/button[1]')"
   ]
  },
  {
   "cell_type": "code",
   "execution_count": 10,
   "id": "51f4f035",
   "metadata": {},
   "outputs": [],
   "source": [
    "no_thanks.click()"
   ]
  },
  {
   "cell_type": "code",
   "execution_count": 11,
   "id": "ad396b89",
   "metadata": {},
   "outputs": [],
   "source": [
    "time.sleep(1)"
   ]
  },
  {
   "cell_type": "code",
   "execution_count": null,
   "id": "a370f569",
   "metadata": {},
   "outputs": [],
   "source": []
  },
  {
   "cell_type": "code",
   "execution_count": 12,
   "id": "57c02697",
   "metadata": {},
   "outputs": [],
   "source": [
    "view_cart=wd.find_element_by_xpath('//*[@id=\"modal-intermediary\"]/div/div/div[2]/div[2]/button[2]')"
   ]
  },
  {
   "cell_type": "code",
   "execution_count": 13,
   "id": "e7ca4ade",
   "metadata": {},
   "outputs": [],
   "source": [
    "view_cart.click()"
   ]
  },
  {
   "cell_type": "code",
   "execution_count": null,
   "id": "206ef97b",
   "metadata": {},
   "outputs": [],
   "source": []
  },
  {
   "cell_type": "code",
   "execution_count": 14,
   "id": "eda598b3",
   "metadata": {},
   "outputs": [
    {
     "name": "stdout",
     "output_type": "stream",
     "text": [
      "9\n"
     ]
    }
   ],
   "source": [
    "random_timer=random.randrange(3.0, 10.0)\n",
    "print(random_timer)\n",
    "time.sleep(random_timer)"
   ]
  },
  {
   "cell_type": "code",
   "execution_count": 15,
   "id": "5103a666",
   "metadata": {},
   "outputs": [],
   "source": [
    "guest=wd.find_element_by_xpath('//*[@id=\"app\"]/div/div[2]/div[2]/div/div/div/form[2]/div[2]/div/button').click()"
   ]
  },
  {
   "cell_type": "code",
   "execution_count": 16,
   "id": "df292054",
   "metadata": {},
   "outputs": [],
   "source": [
    "#guest.click()"
   ]
  },
  {
   "cell_type": "code",
   "execution_count": 17,
   "id": "4d2ca8ce",
   "metadata": {},
   "outputs": [],
   "source": [
    "time.sleep(2)"
   ]
  },
  {
   "cell_type": "code",
   "execution_count": 18,
   "id": "0fc5f093",
   "metadata": {},
   "outputs": [],
   "source": [
    "##here we are adding the address"
   ]
  },
  {
   "cell_type": "code",
   "execution_count": 19,
   "id": "b6c58112",
   "metadata": {},
   "outputs": [],
   "source": [
    "new_address=wd.find_element_by_xpath('//*[@id=\"shippingItemCell\"]/div/div[2]/div[2]/div/div[2]/div[2]/div/div')"
   ]
  },
  {
   "cell_type": "code",
   "execution_count": 20,
   "id": "046ce38d",
   "metadata": {},
   "outputs": [],
   "source": [
    "new_address.click()"
   ]
  },
  {
   "cell_type": "code",
   "execution_count": 21,
   "id": "5317fb50",
   "metadata": {},
   "outputs": [],
   "source": [
    "first_name=wd.find_element_by_xpath('//*[@id=\"app\"]/div[1]/div/div/div/div[2]/form/div[2]/div[1]/input').click()"
   ]
  },
  {
   "cell_type": "code",
   "execution_count": 22,
   "id": "1088775c",
   "metadata": {},
   "outputs": [],
   "source": [
    "first_name=wd.find_element_by_xpath('//*[@id=\"app\"]/div[1]/div/div/div/div[2]/form/div[2]/div[1]/input').send_keys(\"Aayush\")"
   ]
  },
  {
   "cell_type": "code",
   "execution_count": 23,
   "id": "53bf6376",
   "metadata": {},
   "outputs": [],
   "source": [
    "last_name=wd.find_element_by_xpath('//*[@id=\"app\"]/div[1]/div/div/div/div[2]/form/div[2]/div[2]/input').click()"
   ]
  },
  {
   "cell_type": "code",
   "execution_count": 24,
   "id": "943fd0f9",
   "metadata": {},
   "outputs": [],
   "source": [
    "last_name=wd.find_element_by_xpath('//*[@id=\"app\"]/div[1]/div/div/div/div[2]/form/div[2]/div[2]/input').send_keys(\"Jain\")"
   ]
  },
  {
   "cell_type": "code",
   "execution_count": 25,
   "id": "7d0baf87",
   "metadata": {},
   "outputs": [
    {
     "name": "stdout",
     "output_type": "stream",
     "text": [
      "5\n"
     ]
    }
   ],
   "source": [
    "random_timer=random.randrange(3.0, 10.0)\n",
    "print(random_timer)\n",
    "time.sleep(random_timer)"
   ]
  },
  {
   "cell_type": "code",
   "execution_count": 26,
   "id": "a0cf28cc",
   "metadata": {},
   "outputs": [],
   "source": [
    "address=wd.find_element_by_xpath('//*[@id=\"app\"]/div[1]/div/div/div/div[2]/form/div[2]/div[6]/input').click()"
   ]
  },
  {
   "cell_type": "code",
   "execution_count": 27,
   "id": "8dc81280",
   "metadata": {},
   "outputs": [],
   "source": [
    "address=wd.find_element_by_xpath('//*[@id=\"app\"]/div[1]/div/div/div/div[2]/form/div[2]/div[6]/input').send_keys(\"316 east 93rd street\")"
   ]
  },
  {
   "cell_type": "code",
   "execution_count": 28,
   "id": "bf435d29",
   "metadata": {},
   "outputs": [],
   "source": [
    "apt=wd.find_element_by_xpath('//*[@id=\"app\"]/div[1]/div/div/div/div[2]/form/div[2]/div[7]/input').click()"
   ]
  },
  {
   "cell_type": "code",
   "execution_count": 29,
   "id": "c7b2bf24",
   "metadata": {},
   "outputs": [],
   "source": [
    "apt=wd.find_element_by_xpath('//*[@id=\"app\"]/div[1]/div/div/div/div[2]/form/div[2]/div[7]/input').send_keys(\"4\")"
   ]
  },
  {
   "cell_type": "code",
   "execution_count": 30,
   "id": "86c092af",
   "metadata": {},
   "outputs": [
    {
     "name": "stdout",
     "output_type": "stream",
     "text": [
      "9\n"
     ]
    }
   ],
   "source": [
    "random_timer=random.randrange(3.0, 10.0)\n",
    "print(random_timer)\n",
    "time.sleep(random_timer)"
   ]
  },
  {
   "cell_type": "code",
   "execution_count": 31,
   "id": "faa5b6fb",
   "metadata": {},
   "outputs": [],
   "source": [
    "city=wd.find_element_by_xpath('/html/body/div[7]/div[1]/div/div/div/div[2]/form/div[2]/div[10]/input').click()"
   ]
  },
  {
   "cell_type": "code",
   "execution_count": 32,
   "id": "f85509a2",
   "metadata": {},
   "outputs": [],
   "source": [
    "city=wd.find_element_by_xpath('/html/body/div[7]/div[1]/div/div/div/div[2]/form/div[2]/div[10]/input').send_keys(\"New York\")"
   ]
  },
  {
   "cell_type": "code",
   "execution_count": 33,
   "id": "7710372e",
   "metadata": {},
   "outputs": [],
   "source": [
    "state=wd.find_element_by_xpath('/html/body/div[7]/div[1]/div/div/div/div[2]/form/div[2]/div[11]/label[2]/select')\n",
    "Select(state).select_by_value('NY')"
   ]
  },
  {
   "cell_type": "code",
   "execution_count": 34,
   "id": "7d4f3b2c",
   "metadata": {},
   "outputs": [
    {
     "name": "stdout",
     "output_type": "stream",
     "text": [
      "8\n"
     ]
    }
   ],
   "source": [
    "random_timer=random.randrange(3.0, 10.0)\n",
    "print(random_timer)\n",
    "time.sleep(random_timer)"
   ]
  },
  {
   "cell_type": "code",
   "execution_count": 35,
   "id": "fa811210",
   "metadata": {},
   "outputs": [],
   "source": [
    "zip_code=wd.find_element_by_xpath('/html/body/div[7]/div[1]/div/div/div/div[2]/form/div[2]/div[12]/input').click()"
   ]
  },
  {
   "cell_type": "code",
   "execution_count": 36,
   "id": "23f31731",
   "metadata": {},
   "outputs": [],
   "source": [
    "zip_code=wd.find_element_by_xpath('/html/body/div[7]/div[1]/div/div/div/div[2]/form/div[2]/div[12]/input').send_keys(\"10128\")"
   ]
  },
  {
   "cell_type": "code",
   "execution_count": 37,
   "id": "54018b85",
   "metadata": {},
   "outputs": [],
   "source": [
    "phone_num=wd.find_element_by_xpath('/html/body/div[7]/div[1]/div/div/div/div[2]/form/div[2]/div[14]/input').click()"
   ]
  },
  {
   "cell_type": "code",
   "execution_count": 38,
   "id": "e352d3ae",
   "metadata": {},
   "outputs": [],
   "source": [
    "phone_num=wd.find_element_by_xpath('/html/body/div[7]/div[1]/div/div/div/div[2]/form/div[2]/div[14]/input').send_keys(\"6462557139\")"
   ]
  },
  {
   "cell_type": "code",
   "execution_count": 39,
   "id": "d541b573",
   "metadata": {},
   "outputs": [
    {
     "name": "stdout",
     "output_type": "stream",
     "text": [
      "7\n"
     ]
    }
   ],
   "source": [
    "random_timer=random.randrange(3.0, 10.0)\n",
    "print(random_timer)\n",
    "time.sleep(random_timer)"
   ]
  },
  {
   "cell_type": "code",
   "execution_count": 40,
   "id": "c6301553",
   "metadata": {},
   "outputs": [],
   "source": [
    "email_add=wd.find_element_by_xpath('/html/body/div[7]/div[1]/div/div/div/div[2]/form/div[2]/div[17]/input').click()\n",
    "email_add=wd.find_element_by_xpath('/html/body/div[7]/div[1]/div/div/div/div[2]/form/div[2]/div[17]/input').send_keys(\"jain.aayush96@gmail.com\")"
   ]
  },
  {
   "cell_type": "code",
   "execution_count": 41,
   "id": "f1501bb2",
   "metadata": {},
   "outputs": [],
   "source": [
    "time.sleep(2)"
   ]
  },
  {
   "cell_type": "code",
   "execution_count": 42,
   "id": "15352ff5",
   "metadata": {},
   "outputs": [],
   "source": [
    "save_button=wd.find_element_by_xpath('/html/body/div[7]/div[1]/div/div/div/div[3]/button[2]').click()"
   ]
  },
  {
   "cell_type": "code",
   "execution_count": null,
   "id": "744ba1dc",
   "metadata": {},
   "outputs": [],
   "source": []
  },
  {
   "cell_type": "code",
   "execution_count": 43,
   "id": "f8dec201",
   "metadata": {},
   "outputs": [
    {
     "name": "stdout",
     "output_type": "stream",
     "text": [
      "3\n"
     ]
    }
   ],
   "source": [
    "random_timer=random.randrange(3.0, 10.0)\n",
    "print(random_timer)\n",
    "time.sleep(random_timer)"
   ]
  },
  {
   "cell_type": "code",
   "execution_count": 44,
   "id": "c66caa22",
   "metadata": {},
   "outputs": [],
   "source": [
    "guest_warning=wd.find_element_by_xpath('/html/body/div[7]/div[1]/div/div/div/div[3]/button[2]').click()"
   ]
  },
  {
   "cell_type": "code",
   "execution_count": 45,
   "id": "fc1449fc",
   "metadata": {},
   "outputs": [],
   "source": [
    "time.sleep(3)"
   ]
  },
  {
   "cell_type": "code",
   "execution_count": 46,
   "id": "30a1dd90",
   "metadata": {},
   "outputs": [],
   "source": [
    "use_address=wd.find_element_by_xpath('/html/body/div[7]/div[1]/div/div/div/div[3]/button[2]').click()"
   ]
  },
  {
   "cell_type": "code",
   "execution_count": 47,
   "id": "d1eb7846",
   "metadata": {},
   "outputs": [],
   "source": [
    "time.sleep(random_timer)"
   ]
  },
  {
   "cell_type": "code",
   "execution_count": 48,
   "id": "3d691b6e",
   "metadata": {},
   "outputs": [],
   "source": [
    "delivery=wd.find_element_by_xpath('/html/body/div[7]/div[1]/section/div/div/form/div[2]/div[1]/div/div[1]/div/div[3]/button').click()"
   ]
  },
  {
   "cell_type": "code",
   "execution_count": 49,
   "id": "d83918ef",
   "metadata": {},
   "outputs": [
    {
     "name": "stdout",
     "output_type": "stream",
     "text": [
      "7\n"
     ]
    }
   ],
   "source": [
    "random_timer=random.randrange(3.0, 10.0)\n",
    "print(random_timer)\n",
    "time.sleep(random_timer)"
   ]
  },
  {
   "cell_type": "code",
   "execution_count": 50,
   "id": "04d9b8ce",
   "metadata": {},
   "outputs": [],
   "source": [
    "payment=wd.find_element_by_xpath('/html/body/div[7]/div[1]/section/div/div/form/div[2]/div[1]/div/div[2]/div/div[3]/button').click()"
   ]
  },
  {
   "cell_type": "code",
   "execution_count": null,
   "id": "72635ef6",
   "metadata": {},
   "outputs": [],
   "source": []
  }
 ],
 "metadata": {
  "kernelspec": {
   "display_name": "Python 3 (ipykernel)",
   "language": "python",
   "name": "python3"
  },
  "language_info": {
   "codemirror_mode": {
    "name": "ipython",
    "version": 3
   },
   "file_extension": ".py",
   "mimetype": "text/x-python",
   "name": "python",
   "nbconvert_exporter": "python",
   "pygments_lexer": "ipython3",
   "version": "3.8.12"
  }
 },
 "nbformat": 4,
 "nbformat_minor": 5
}
